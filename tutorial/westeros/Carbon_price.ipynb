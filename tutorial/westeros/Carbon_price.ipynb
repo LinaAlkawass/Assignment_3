{
 "cells": [
  {
   "cell_type": "markdown",
   "metadata": {},
   "source": [
    "# Emissions and carbon price"
   ]
  },
  {
   "cell_type": "code",
   "execution_count": 1,
   "metadata": {},
   "outputs": [],
   "source": [
    "import pandas as pd\n",
    "import ixmp\n",
    "import message_ix\n",
    "import random\n",
    "from message_ix.utils import make_df\n",
    "\n",
    "%matplotlib inline"
   ]
  },
  {
   "cell_type": "code",
   "execution_count": 2,
   "metadata": {},
   "outputs": [],
   "source": [
    "mp = ixmp.Platform()"
   ]
  },
  {
   "cell_type": "code",
   "execution_count": 3,
   "metadata": {},
   "outputs": [],
   "source": [
    "model = 'Westeros Electrified'\n",
    "\n",
    "base = message_ix.Scenario(mp, model=model, scenario='gas_power_plant')\n",
    "scen_b = base.clone(model, 'emission_bound','introducing bound on emissions and carbon price',\n",
    "                  keep_solution=False)\n",
    "scen_b.check_out()"
   ]
  },
  {
   "cell_type": "code",
   "execution_count": 4,
   "metadata": {},
   "outputs": [],
   "source": [
    "year_df = scen_b.vintage_and_active_years()\n",
    "vintage_years, act_years = year_df['year_vtg'], year_df['year_act']\n",
    "model_horizon = scen_b.set('year')\n",
    "country = 'Westeros'"
   ]
  },
  {
   "cell_type": "markdown",
   "metadata": {},
   "source": [
    "## Introducing Emissions"
   ]
  },
  {
   "cell_type": "code",
   "execution_count": 5,
   "metadata": {},
   "outputs": [],
   "source": [
    "# first we introduce the emission of CO2 and the emission category GHG\n",
    "scen_b.add_set('emission', 'CO2')\n",
    "scen_b.add_cat('emission', 'GHG', 'CO2')\n",
    "\n",
    "#we now add CO2 emissions to the coal powerplant\n",
    "base_emission_factor = {\n",
    "    'node_loc': country,\n",
    "    'year_vtg': vintage_years,\n",
    "    'year_act': act_years,\n",
    "    'mode': 'standard',\n",
    "    'unit': 'tCO2/kWa',\n",
    "}\n",
    "\n",
    "emission_factor = make_df(base_emission_factor, technology= 'coal_ppl', emission= 'CO2', value = 7.4)\n",
    "scen_b.add_par('emission_factor', emission_factor)\n",
    "\n",
    "emission_factor = make_df(base_emission_factor, technology= 'gas_ppl', emission= 'CO2', value = 4.3)\n",
    "scen_b.add_par('emission_factor', emission_factor)\n"
   ]
  },
  {
   "cell_type": "markdown",
   "metadata": {},
   "source": [
    "Source of emission factor: \"IPCC Working Group III – Mitigation of Climate Change, Annex III: Technology - specific cost and performance parameters - Table A.III.2 (Emissions of selected electricity supply technologies (gCO 2eq/kWh))\" (PDF). IPCC. 2014. p. 1335. "
   ]
  },
  {
   "cell_type": "markdown",
   "metadata": {},
   "source": [
    "## Define a Bound on Emissions\n",
    "\n",
    "The `type_year: cumulative` assigns an upper bound on the *weighted average of emissions* over the entire time horizon."
   ]
  },
  {
   "cell_type": "code",
   "execution_count": 6,
   "metadata": {},
   "outputs": [],
   "source": [
    "scen_b.add_par('bound_emission', [country, 'GHG', 'all', 'cumulative'],\n",
    "             value=600., unit='MtCO2')"
   ]
  },
  {
   "cell_type": "markdown",
   "metadata": {},
   "source": [
    "## Setting “sweet spot” prices on carbon"
   ]
  },
  {
   "cell_type": "code",
   "execution_count": 7,
   "metadata": {},
   "outputs": [
    {
     "data": {
      "text/html": [
       "<div>\n",
       "<style scoped>\n",
       "    .dataframe tbody tr th:only-of-type {\n",
       "        vertical-align: middle;\n",
       "    }\n",
       "\n",
       "    .dataframe tbody tr th {\n",
       "        vertical-align: top;\n",
       "    }\n",
       "\n",
       "    .dataframe thead th {\n",
       "        text-align: right;\n",
       "    }\n",
       "</style>\n",
       "<table border=\"1\" class=\"dataframe\">\n",
       "  <thead>\n",
       "    <tr style=\"text-align: right;\">\n",
       "      <th></th>\n",
       "      <th>node</th>\n",
       "      <th>type_emission</th>\n",
       "      <th>type_tec</th>\n",
       "      <th>type_year</th>\n",
       "      <th>value</th>\n",
       "      <th>unit</th>\n",
       "    </tr>\n",
       "  </thead>\n",
       "  <tbody>\n",
       "    <tr>\n",
       "      <th>0</th>\n",
       "      <td>Westeros</td>\n",
       "      <td>GHG</td>\n",
       "      <td>all</td>\n",
       "      <td>700</td>\n",
       "      <td>10.0</td>\n",
       "      <td>USD/tCO2</td>\n",
       "    </tr>\n",
       "    <tr>\n",
       "      <th>1</th>\n",
       "      <td>Westeros</td>\n",
       "      <td>GHG</td>\n",
       "      <td>all</td>\n",
       "      <td>710</td>\n",
       "      <td>10.0</td>\n",
       "      <td>USD/tCO2</td>\n",
       "    </tr>\n",
       "    <tr>\n",
       "      <th>2</th>\n",
       "      <td>Westeros</td>\n",
       "      <td>GHG</td>\n",
       "      <td>all</td>\n",
       "      <td>720</td>\n",
       "      <td>10.0</td>\n",
       "      <td>USD/tCO2</td>\n",
       "    </tr>\n",
       "  </tbody>\n",
       "</table>\n",
       "</div>"
      ],
      "text/plain": [
       "       node type_emission type_tec type_year  value      unit\n",
       "0  Westeros           GHG      all       700   10.0  USD/tCO2\n",
       "1  Westeros           GHG      all       710   10.0  USD/tCO2\n",
       "2  Westeros           GHG      all       720   10.0  USD/tCO2"
      ]
     },
     "execution_count": 7,
     "metadata": {},
     "output_type": "execute_result"
    }
   ],
   "source": [
    "scen_b.add_set('type_year', [700, 710, 720])\n",
    "\n",
    "base_tax_emission = {\n",
    "    'node': 'Westeros',\n",
    "    'type_year': [700, 710, 720],\n",
    "    'type_tec': 'all',\n",
    "    'unit': 'USD/tCO2',\n",
    "    'type_emission': 'GHG',\n",
    "    'value': random.randrange(1,18)\n",
    "}\n",
    "\n",
    "tax_emission = make_df(base_tax_emission)\n",
    "scen_b.add_par('tax_emission', tax_emission)\n",
    "scen_b.par('tax_emission')"
   ]
  },
  {
   "cell_type": "markdown",
   "metadata": {},
   "source": [
    "## Time to Solve the Model"
   ]
  },
  {
   "cell_type": "code",
   "execution_count": 8,
   "metadata": {},
   "outputs": [],
   "source": [
    "scen_b.commit(comment='introducing emissions and carbon price')\n",
    "scen_b.set_as_default()"
   ]
  },
  {
   "cell_type": "code",
   "execution_count": 9,
   "metadata": {},
   "outputs": [],
   "source": [
    "scen_b.solve()"
   ]
  },
  {
   "cell_type": "code",
   "execution_count": 10,
   "metadata": {},
   "outputs": [
    {
     "data": {
      "text/plain": [
       "376452.8125"
      ]
     },
     "execution_count": 10,
     "metadata": {},
     "output_type": "execute_result"
    }
   ],
   "source": [
    "scen_b.var('OBJ')['lvl']"
   ]
  },
  {
   "cell_type": "code",
   "execution_count": 11,
   "metadata": {},
   "outputs": [
    {
     "data": {
      "text/html": [
       "<div>\n",
       "<style scoped>\n",
       "    .dataframe tbody tr th:only-of-type {\n",
       "        vertical-align: middle;\n",
       "    }\n",
       "\n",
       "    .dataframe tbody tr th {\n",
       "        vertical-align: top;\n",
       "    }\n",
       "\n",
       "    .dataframe thead th {\n",
       "        text-align: right;\n",
       "    }\n",
       "</style>\n",
       "<table border=\"1\" class=\"dataframe\">\n",
       "  <thead>\n",
       "    <tr style=\"text-align: right;\">\n",
       "      <th></th>\n",
       "      <th>node</th>\n",
       "      <th>emission</th>\n",
       "      <th>type_tec</th>\n",
       "      <th>year</th>\n",
       "      <th>lvl</th>\n",
       "      <th>mrg</th>\n",
       "    </tr>\n",
       "  </thead>\n",
       "  <tbody>\n",
       "    <tr>\n",
       "      <th>0</th>\n",
       "      <td>Westeros</td>\n",
       "      <td>CO2</td>\n",
       "      <td>all</td>\n",
       "      <td>700</td>\n",
       "      <td>471.137329</td>\n",
       "      <td>0.0</td>\n",
       "    </tr>\n",
       "    <tr>\n",
       "      <th>1</th>\n",
       "      <td>Westeros</td>\n",
       "      <td>CO2</td>\n",
       "      <td>all</td>\n",
       "      <td>710</td>\n",
       "      <td>711.135927</td>\n",
       "      <td>0.0</td>\n",
       "    </tr>\n",
       "    <tr>\n",
       "      <th>2</th>\n",
       "      <td>Westeros</td>\n",
       "      <td>CO2</td>\n",
       "      <td>all</td>\n",
       "      <td>720</td>\n",
       "      <td>617.726744</td>\n",
       "      <td>0.0</td>\n",
       "    </tr>\n",
       "  </tbody>\n",
       "</table>\n",
       "</div>"
      ],
      "text/plain": [
       "       node emission type_tec  year         lvl  mrg\n",
       "0  Westeros      CO2      all   700  471.137329  0.0\n",
       "1  Westeros      CO2      all   710  711.135927  0.0\n",
       "2  Westeros      CO2      all   720  617.726744  0.0"
      ]
     },
     "execution_count": 11,
     "metadata": {},
     "output_type": "execute_result"
    }
   ],
   "source": [
    "scen_b.var('EMISS', {'node': 'Westeros'})"
   ]
  },
  {
   "cell_type": "markdown",
   "metadata": {},
   "source": [
    "## Plotting Results"
   ]
  },
  {
   "cell_type": "code",
   "execution_count": 12,
   "metadata": {},
   "outputs": [],
   "source": [
    "from tools import Plots\n",
    "p = Plots(scen_b, country, firstyear=700)"
   ]
  },
  {
   "cell_type": "markdown",
   "metadata": {},
   "source": [
    "### Activity\n",
    "\n",
    "How much energy is generated in each time period from the different potential sources?"
   ]
  },
  {
   "cell_type": "code",
   "execution_count": 13,
   "metadata": {
    "scrolled": true
   },
   "outputs": [
    {
     "data": {
      "image/png": "[encoded data removed]",
      "text/plain": [
       "<Figure size 432x288 with 1 Axes>"
      ]
     },
     "metadata": {
      "needs_background": "light"
     },
     "output_type": "display_data"
    }
   ],
   "source": [
    "p.plot_activity(baseyear=True, subset=['coal_ppl', 'gas_ppl', 'wind_ppl'])"
   ]
  },
  {
   "cell_type": "markdown",
   "metadata": {},
   "source": [
    "## Finding\n",
    "A carbon price less than 18 USD/tCO2 represents the \"sweet spot\" where coal, wind and gas are used\n",
    "at the same time, such that the gas power plant and wind dominate the energy mix thus reducing the share of coal power plant."
   ]
  },
  {
   "cell_type": "markdown",
   "metadata": {},
   "source": [
    "### Capacity\n",
    "\n",
    "How much capacity of each plant is installed in each period?"
   ]
  },
  {
   "cell_type": "code",
   "execution_count": 14,
   "metadata": {
    "scrolled": true
   },
   "outputs": [
    {
     "data": {
      "image/png": "[encoded data removed]",
      "text/plain": [
       "<Figure size 432x288 with 1 Axes>"
      ]
     },
     "metadata": {
      "needs_background": "light"
     },
     "output_type": "display_data"
    }
   ],
   "source": [
    "p.plot_capacity(baseyear=True, subset=['coal_ppl', 'gas_ppl', 'wind_ppl'])"
   ]
  },
  {
   "cell_type": "markdown",
   "metadata": {},
   "source": [
    "### Electricity Price\n",
    "\n",
    "And how much does the electricity cost? These prices are in fact **shadow prices** taken from the **dual variables** of the model solution. They reflect the marginal cost of electricity generation (i.e., the additional cost of the system for supplying one more unit of electricity), which is in fact the marginal cost of the most expensive generator.  \n",
    "\n",
    "Note the price drop when the most expensive technology is no longer in the system."
   ]
  },
  {
   "cell_type": "code",
   "execution_count": 15,
   "metadata": {},
   "outputs": [
    {
     "data": {
      "image/png": "[encoded data removed]",
      "text/plain": [
       "<Figure size 432x288 with 1 Axes>"
      ]
     },
     "metadata": {
      "needs_background": "light"
     },
     "output_type": "display_data"
    }
   ],
   "source": [
    "p.plot_prices(subset=['light'], baseyear=True)"
   ]
  },
  {
   "cell_type": "markdown",
   "metadata": {},
   "source": [
    "## Close the connection to the database"
   ]
  },
  {
   "cell_type": "code",
   "execution_count": 16,
   "metadata": {},
   "outputs": [],
   "source": [
    "mp.close_db()"
   ]
  },
  {
   "cell_type": "code",
   "execution_count": null,
   "metadata": {},
   "outputs": [],
   "source": []
  },
  {
   "cell_type": "code",
   "execution_count": null,
   "metadata": {},
   "outputs": [],
   "source": []
  }
 ],
 "metadata": {
  "kernelspec": {
   "display_name": "Python 3",
   "language": "python",
   "name": "python3"
  },
  "language_info": {
   "codemirror_mode": {
    "name": "ipython",
    "version": 3
   },
   "file_extension": ".py",
   "mimetype": "text/x-python",
   "name": "python",
   "nbconvert_exporter": "python",
   "pygments_lexer": "ipython3",
   "version": "3.7.3"
  }
 },
 "nbformat": 4,
 "nbformat_minor": 2
}
